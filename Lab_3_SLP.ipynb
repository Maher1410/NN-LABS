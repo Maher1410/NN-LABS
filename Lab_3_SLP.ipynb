{
  "nbformat": 4,
  "nbformat_minor": 0,
  "metadata": {
    "colab": {
      "provenance": [],
      "mount_file_id": "1leJoJoUcZWsbUYNos4g5hI3QGO2_Xsr0",
      "authorship_tag": "ABX9TyPjmsMEqwxENkThar6ICavE",
      "include_colab_link": true
    },
    "kernelspec": {
      "name": "python3",
      "display_name": "Python 3"
    },
    "language_info": {
      "name": "python"
    }
  },
  "cells": [
    {
      "cell_type": "markdown",
      "metadata": {
        "id": "view-in-github",
        "colab_type": "text"
      },
      "source": [
        "<a href=\"https://colab.research.google.com/github/Maher1410/NN-LABS/blob/main/Lab_3_SLP.ipynb\" target=\"_parent\"><img src=\"https://colab.research.google.com/assets/colab-badge.svg\" alt=\"Open In Colab\"/></a>"
      ]
    },
    {
      "cell_type": "code",
      "execution_count": 59,
      "metadata": {
        "id": "5mD_8bv4ufB2"
      },
      "outputs": [],
      "source": [
        "import numpy as np\n",
        "import matplotlib.pyplot as plt\n",
        "import pandas\n",
        "from sklearn.metrics import mean_absolute_error"
      ]
    },
    {
      "cell_type": "code",
      "source": [
        "class activation_fun:\n",
        "  def sigmoid (v):\n",
        "    return 1.0/(1+np.exp(-1*v))\n",
        "\n",
        "  def step_function(v):\n",
        "    if v < 0:\n",
        "      return 0\n",
        "    else:\n",
        "      return 1"
      ],
      "metadata": {
        "id": "DXJaf6IIv2qL"
      },
      "execution_count": 60,
      "outputs": []
    },
    {
      "cell_type": "code",
      "source": [
        "import random\n",
        "\n",
        "class SinglePerceptron:\n",
        "    def __init__(self,inputsize,lr):\n",
        "        self.inputsize=inputsize;\n",
        "        self.w=np.random.rand(self.inputsize)\n",
        "        self.w=self.w.reshape(1,-1)\n",
        "        print(self.w.shape)\n",
        "        self.lr = lr\n",
        "        self.history = []\n",
        "        self.y_pred = []\n",
        "\n",
        "    def forwardpass(self,x):\n",
        "        self.sop = np.dot(self.w,x.T)\n",
        "        self.pred = activation_fun.step_function(self.sop)\n",
        "        self.y_pred.append(self.pred)\n",
        "\n",
        "    def error(self,target):\n",
        "        self.target = target\n",
        "        self.err = self.target - self.pred\n",
        "        return self.pred != target\n",
        "\n",
        "    def update_wieght(self,x):\n",
        "        self.w = self.w + np.multiply(self.lr*self.err,x)\n",
        "\n",
        "    def training(self,epoch,x_train,y_train):\n",
        "        self.x_train = x_train\n",
        "        self.y_train = y_train\n",
        "        self.shuffle_samples()\n",
        "\n",
        "        for i in range(epoch):\n",
        "            for x, y in zip(self.x_train, self.y_train):\n",
        "                x=x.reshape(1,-1)\n",
        "                self.forwardpass(x)\n",
        "                if self.error(y):\n",
        "                    self.update_wieght(x)\n",
        "            # Calculate mean absolute error\n",
        "            self.y_predicted = np.array(self.y_pred)\n",
        "            y_train = np.array(y_train) #convert y_train to anumpy array if it is not already\n",
        "            print (\"train{}\".format(y_train.shape))\n",
        "            mae = mean_absolute_error(self.y_train, self.y_predicted)\n",
        "            self.history.append(mae)\n",
        "            print(\"Epoch {0} of {1} =================================== error: {2}\".format(i,epoch,mae))\n",
        "            self.y_pred.clear()\n",
        "\n",
        "    def shuffle_samples(self):\n",
        "        #combine the arrays into a list of tuples\n",
        "        combined_arrays = list(zip(self.x_train, self.y_train))\n",
        "\n",
        "        #Shuffle the combined arrays\n",
        "        random.shuffle(combined_arrays)\n",
        "\n",
        "        #unzip the shuffled arrays back into separate arrays\n",
        "        self.x_train, self.y_train = zip(*combined_arrays)\n",
        "\n",
        "    def plot_history(self):\n",
        "        x_values = range(0, len(self.history))\n",
        "        #plot the array against the x-axis values\n",
        "        plt.plot(x_values, self.history)\n",
        "        #add labels and title\n",
        "        plt.xlabel('Epoch')  # Fix typo here. It should be 'xlabel' instead of 'xlable'\n",
        "        plt.ylabel('Error')\n",
        "        plt.title('Error VS Epoch')\n",
        "\n",
        "        #show the plot\n",
        "        plt.show()\n"
      ],
      "metadata": {
        "id": "p9HjxYZ0wOUP"
      },
      "execution_count": 61,
      "outputs": []
    },
    {
      "cell_type": "code",
      "source": [
        "df = pandas.read_csv(\"/content/drive/MyDrive/LABNN/sonar.csv\", header=None)"
      ],
      "metadata": {
        "id": "w4rhXFRx8Txa"
      },
      "execution_count": 62,
      "outputs": []
    },
    {
      "cell_type": "code",
      "source": [
        "dataset=df.values"
      ],
      "metadata": {
        "id": "gpN6GaT68qtQ"
      },
      "execution_count": 63,
      "outputs": []
    },
    {
      "cell_type": "code",
      "source": [
        "X=dataset[:,0:60].astype(float)\n",
        "Y=dataset[:,60]"
      ],
      "metadata": {
        "id": "ahX4UD6r8uQn"
      },
      "execution_count": 64,
      "outputs": []
    },
    {
      "cell_type": "code",
      "source": [
        "#Encode the vector to be 1 of'M' and 0 if 'R'\n",
        "encoded_Y = (Y == 'M').astype(int)"
      ],
      "metadata": {
        "id": "c3sJiEzw86T2"
      },
      "execution_count": 65,
      "outputs": []
    },
    {
      "cell_type": "code",
      "source": [
        "Y_train = np.array(encoded_Y)"
      ],
      "metadata": {
        "id": "IxB-RqgH9HQ1"
      },
      "execution_count": 66,
      "outputs": []
    },
    {
      "cell_type": "code",
      "source": [
        "Y_train = Y_train.reshape(-1,1)"
      ],
      "metadata": {
        "id": "YCY3r-Kt9PwI"
      },
      "execution_count": 67,
      "outputs": []
    },
    {
      "cell_type": "code",
      "source": [
        "X_train = np.array(X)"
      ],
      "metadata": {
        "id": "KjwUU3zb9Wt7"
      },
      "execution_count": 68,
      "outputs": []
    },
    {
      "cell_type": "code",
      "source": [
        "X_train.shape, Y_train.shape"
      ],
      "metadata": {
        "colab": {
          "base_uri": "https://localhost:8080/"
        },
        "id": "OlsPiecC9aIn",
        "outputId": "a5d20089-d0fe-4756-c844-55874a8d9c25"
      },
      "execution_count": 69,
      "outputs": [
        {
          "output_type": "execute_result",
          "data": {
            "text/plain": [
              "((208, 60), (208, 1))"
            ]
          },
          "metadata": {},
          "execution_count": 69
        }
      ]
    },
    {
      "cell_type": "code",
      "source": [
        "input_size = X_train.shape[1]\n",
        "print(type(input_size))"
      ],
      "metadata": {
        "colab": {
          "base_uri": "https://localhost:8080/"
        },
        "id": "Lf48PBnm9gKX",
        "outputId": "9c12e1f6-4485-480e-f957-9c1796cf5798"
      },
      "execution_count": 70,
      "outputs": [
        {
          "output_type": "stream",
          "name": "stdout",
          "text": [
            "<class 'int'>\n"
          ]
        }
      ]
    },
    {
      "cell_type": "code",
      "source": [
        "My_Model = SinglePerceptron(input_size,0.3)"
      ],
      "metadata": {
        "colab": {
          "base_uri": "https://localhost:8080/"
        },
        "id": "hw0N3cUQ9quB",
        "outputId": "b21cb236-8bd5-4119-929e-19a4ad8f8019"
      },
      "execution_count": 71,
      "outputs": [
        {
          "output_type": "stream",
          "name": "stdout",
          "text": [
            "(1, 60)\n"
          ]
        }
      ]
    },
    {
      "cell_type": "code",
      "source": [
        "My_Model.training(100,X_train,Y_train)"
      ],
      "metadata": {
        "colab": {
          "base_uri": "https://localhost:8080/"
        },
        "id": "0GBYDau09yvh",
        "outputId": "88553b7b-cf4d-449c-d2dc-08512dcfdf6f"
      },
      "execution_count": 72,
      "outputs": [
        {
          "output_type": "stream",
          "name": "stdout",
          "text": [
            "train(208, 1)\n",
            "Epoch 0 of 100 =================================== error: 0.42788461538461536\n",
            "train(208, 1)\n",
            "Epoch 1 of 100 =================================== error: 0.3605769230769231\n",
            "train(208, 1)\n",
            "Epoch 2 of 100 =================================== error: 0.3701923076923077\n",
            "train(208, 1)\n",
            "Epoch 3 of 100 =================================== error: 0.30288461538461536\n",
            "train(208, 1)\n",
            "Epoch 4 of 100 =================================== error: 0.34615384615384615\n",
            "train(208, 1)\n",
            "Epoch 5 of 100 =================================== error: 0.27884615384615385\n",
            "train(208, 1)\n",
            "Epoch 6 of 100 =================================== error: 0.28365384615384615\n",
            "train(208, 1)\n",
            "Epoch 7 of 100 =================================== error: 0.2692307692307692\n",
            "train(208, 1)\n",
            "Epoch 8 of 100 =================================== error: 0.2548076923076923\n",
            "train(208, 1)\n",
            "Epoch 9 of 100 =================================== error: 0.2980769230769231\n",
            "train(208, 1)\n",
            "Epoch 10 of 100 =================================== error: 0.2548076923076923\n",
            "train(208, 1)\n",
            "Epoch 11 of 100 =================================== error: 0.2403846153846154\n",
            "train(208, 1)\n",
            "Epoch 12 of 100 =================================== error: 0.27884615384615385\n",
            "train(208, 1)\n",
            "Epoch 13 of 100 =================================== error: 0.2980769230769231\n",
            "train(208, 1)\n",
            "Epoch 14 of 100 =================================== error: 0.23076923076923078\n",
            "train(208, 1)\n",
            "Epoch 15 of 100 =================================== error: 0.2932692307692308\n",
            "train(208, 1)\n",
            "Epoch 16 of 100 =================================== error: 0.25\n",
            "train(208, 1)\n",
            "Epoch 17 of 100 =================================== error: 0.28365384615384615\n",
            "train(208, 1)\n",
            "Epoch 18 of 100 =================================== error: 0.2548076923076923\n",
            "train(208, 1)\n",
            "Epoch 19 of 100 =================================== error: 0.2403846153846154\n",
            "train(208, 1)\n",
            "Epoch 20 of 100 =================================== error: 0.24519230769230768\n",
            "train(208, 1)\n",
            "Epoch 21 of 100 =================================== error: 0.2403846153846154\n",
            "train(208, 1)\n",
            "Epoch 22 of 100 =================================== error: 0.2548076923076923\n",
            "train(208, 1)\n",
            "Epoch 23 of 100 =================================== error: 0.25\n",
            "train(208, 1)\n",
            "Epoch 24 of 100 =================================== error: 0.3076923076923077\n",
            "train(208, 1)\n",
            "Epoch 25 of 100 =================================== error: 0.23076923076923078\n",
            "train(208, 1)\n",
            "Epoch 26 of 100 =================================== error: 0.25961538461538464\n",
            "train(208, 1)\n",
            "Epoch 27 of 100 =================================== error: 0.2548076923076923\n",
            "train(208, 1)\n",
            "Epoch 28 of 100 =================================== error: 0.23557692307692307\n",
            "train(208, 1)\n",
            "Epoch 29 of 100 =================================== error: 0.2692307692307692\n",
            "train(208, 1)\n",
            "Epoch 30 of 100 =================================== error: 0.2644230769230769\n",
            "train(208, 1)\n",
            "Epoch 31 of 100 =================================== error: 0.2548076923076923\n",
            "train(208, 1)\n",
            "Epoch 32 of 100 =================================== error: 0.22596153846153846\n",
            "train(208, 1)\n",
            "Epoch 33 of 100 =================================== error: 0.2403846153846154\n",
            "train(208, 1)\n",
            "Epoch 34 of 100 =================================== error: 0.24519230769230768\n",
            "train(208, 1)\n",
            "Epoch 35 of 100 =================================== error: 0.23557692307692307\n",
            "train(208, 1)\n",
            "Epoch 36 of 100 =================================== error: 0.2403846153846154\n",
            "train(208, 1)\n",
            "Epoch 37 of 100 =================================== error: 0.22115384615384615\n",
            "train(208, 1)\n",
            "Epoch 38 of 100 =================================== error: 0.25\n",
            "train(208, 1)\n",
            "Epoch 39 of 100 =================================== error: 0.22115384615384615\n",
            "train(208, 1)\n",
            "Epoch 40 of 100 =================================== error: 0.22115384615384615\n",
            "train(208, 1)\n",
            "Epoch 41 of 100 =================================== error: 0.25\n",
            "train(208, 1)\n",
            "Epoch 42 of 100 =================================== error: 0.2403846153846154\n",
            "train(208, 1)\n",
            "Epoch 43 of 100 =================================== error: 0.21153846153846154\n",
            "train(208, 1)\n",
            "Epoch 44 of 100 =================================== error: 0.25961538461538464\n",
            "train(208, 1)\n",
            "Epoch 45 of 100 =================================== error: 0.2403846153846154\n",
            "train(208, 1)\n",
            "Epoch 46 of 100 =================================== error: 0.21153846153846154\n",
            "train(208, 1)\n",
            "Epoch 47 of 100 =================================== error: 0.2644230769230769\n",
            "train(208, 1)\n",
            "Epoch 48 of 100 =================================== error: 0.22115384615384615\n",
            "train(208, 1)\n",
            "Epoch 49 of 100 =================================== error: 0.21153846153846154\n",
            "train(208, 1)\n",
            "Epoch 50 of 100 =================================== error: 0.23076923076923078\n",
            "train(208, 1)\n",
            "Epoch 51 of 100 =================================== error: 0.20673076923076922\n",
            "train(208, 1)\n",
            "Epoch 52 of 100 =================================== error: 0.22596153846153846\n",
            "train(208, 1)\n",
            "Epoch 53 of 100 =================================== error: 0.25961538461538464\n",
            "train(208, 1)\n",
            "Epoch 54 of 100 =================================== error: 0.24519230769230768\n",
            "train(208, 1)\n",
            "Epoch 55 of 100 =================================== error: 0.20192307692307693\n",
            "train(208, 1)\n",
            "Epoch 56 of 100 =================================== error: 0.21153846153846154\n",
            "train(208, 1)\n",
            "Epoch 57 of 100 =================================== error: 0.20673076923076922\n",
            "train(208, 1)\n",
            "Epoch 58 of 100 =================================== error: 0.21153846153846154\n",
            "train(208, 1)\n",
            "Epoch 59 of 100 =================================== error: 0.2403846153846154\n",
            "train(208, 1)\n",
            "Epoch 60 of 100 =================================== error: 0.20673076923076922\n",
            "train(208, 1)\n",
            "Epoch 61 of 100 =================================== error: 0.20192307692307693\n",
            "train(208, 1)\n",
            "Epoch 62 of 100 =================================== error: 0.23557692307692307\n",
            "train(208, 1)\n",
            "Epoch 63 of 100 =================================== error: 0.21634615384615385\n",
            "train(208, 1)\n",
            "Epoch 64 of 100 =================================== error: 0.22115384615384615\n",
            "train(208, 1)\n",
            "Epoch 65 of 100 =================================== error: 0.22115384615384615\n",
            "train(208, 1)\n",
            "Epoch 66 of 100 =================================== error: 0.19230769230769232\n",
            "train(208, 1)\n",
            "Epoch 67 of 100 =================================== error: 0.22115384615384615\n",
            "train(208, 1)\n",
            "Epoch 68 of 100 =================================== error: 0.20192307692307693\n",
            "train(208, 1)\n",
            "Epoch 69 of 100 =================================== error: 0.21153846153846154\n",
            "train(208, 1)\n",
            "Epoch 70 of 100 =================================== error: 0.23557692307692307\n",
            "train(208, 1)\n",
            "Epoch 71 of 100 =================================== error: 0.2548076923076923\n",
            "train(208, 1)\n",
            "Epoch 72 of 100 =================================== error: 0.20673076923076922\n",
            "train(208, 1)\n",
            "Epoch 73 of 100 =================================== error: 0.25\n",
            "train(208, 1)\n",
            "Epoch 74 of 100 =================================== error: 0.2403846153846154\n",
            "train(208, 1)\n",
            "Epoch 75 of 100 =================================== error: 0.24519230769230768\n",
            "train(208, 1)\n",
            "Epoch 76 of 100 =================================== error: 0.2644230769230769\n",
            "train(208, 1)\n",
            "Epoch 77 of 100 =================================== error: 0.23557692307692307\n",
            "train(208, 1)\n",
            "Epoch 78 of 100 =================================== error: 0.19230769230769232\n",
            "train(208, 1)\n",
            "Epoch 79 of 100 =================================== error: 0.24519230769230768\n",
            "train(208, 1)\n",
            "Epoch 80 of 100 =================================== error: 0.22115384615384615\n",
            "train(208, 1)\n",
            "Epoch 81 of 100 =================================== error: 0.21634615384615385\n",
            "train(208, 1)\n",
            "Epoch 82 of 100 =================================== error: 0.21153846153846154\n",
            "train(208, 1)\n",
            "Epoch 83 of 100 =================================== error: 0.22115384615384615\n",
            "train(208, 1)\n",
            "Epoch 84 of 100 =================================== error: 0.23557692307692307\n",
            "train(208, 1)\n",
            "Epoch 85 of 100 =================================== error: 0.19230769230769232\n",
            "train(208, 1)\n",
            "Epoch 86 of 100 =================================== error: 0.1971153846153846\n",
            "train(208, 1)\n",
            "Epoch 87 of 100 =================================== error: 0.1971153846153846\n",
            "train(208, 1)\n",
            "Epoch 88 of 100 =================================== error: 0.18269230769230768\n",
            "train(208, 1)\n",
            "Epoch 89 of 100 =================================== error: 0.22596153846153846\n",
            "train(208, 1)\n",
            "Epoch 90 of 100 =================================== error: 0.20673076923076922\n",
            "train(208, 1)\n",
            "Epoch 91 of 100 =================================== error: 0.23557692307692307\n",
            "train(208, 1)\n",
            "Epoch 92 of 100 =================================== error: 0.20673076923076922\n",
            "train(208, 1)\n",
            "Epoch 93 of 100 =================================== error: 0.20192307692307693\n",
            "train(208, 1)\n",
            "Epoch 94 of 100 =================================== error: 0.23557692307692307\n",
            "train(208, 1)\n",
            "Epoch 95 of 100 =================================== error: 0.21634615384615385\n",
            "train(208, 1)\n",
            "Epoch 96 of 100 =================================== error: 0.1971153846153846\n",
            "train(208, 1)\n",
            "Epoch 97 of 100 =================================== error: 0.21153846153846154\n",
            "train(208, 1)\n",
            "Epoch 98 of 100 =================================== error: 0.20673076923076922\n",
            "train(208, 1)\n",
            "Epoch 99 of 100 =================================== error: 0.19230769230769232\n"
          ]
        }
      ]
    },
    {
      "cell_type": "code",
      "source": [
        "My_Model.plot_history()"
      ],
      "metadata": {
        "colab": {
          "base_uri": "https://localhost:8080/",
          "height": 472
        },
        "id": "3aT9mY_D-Ff3",
        "outputId": "bf841b6e-a8c0-4708-89a3-84edaf2af8f0"
      },
      "execution_count": 73,
      "outputs": [
        {
          "output_type": "display_data",
          "data": {
            "text/plain": [
              "<Figure size 640x480 with 1 Axes>"
            ],
            "image/png": "[encoded data removed]"
          },
          "metadata": {}
        }
      ]
    },
    {
      "cell_type": "code",
      "source": [],
      "metadata": {
        "id": "qb1r9oAx-PKB"
      },
      "execution_count": null,
      "outputs": []
    }
  ]
}