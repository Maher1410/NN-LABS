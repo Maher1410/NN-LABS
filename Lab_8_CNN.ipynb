{
  "nbformat": 4,
  "nbformat_minor": 0,
  "metadata": {
    "colab": {
      "provenance": [],
      "authorship_tag": "ABX9TyOLnyN+8kqZIzcp8oGadqKN",
      "include_colab_link": true
    },
    "kernelspec": {
      "name": "python3",
      "display_name": "Python 3"
    },
    "language_info": {
      "name": "python"
    }
  },
  "cells": [
    {
      "cell_type": "markdown",
      "metadata": {
        "id": "view-in-github",
        "colab_type": "text"
      },
      "source": [
        "<a href=\"https://colab.research.google.com/github/Maher1410/NN-LABS/blob/main/Lab_8_CNN.ipynb\" target=\"_parent\"><img src=\"https://colab.research.google.com/assets/colab-badge.svg\" alt=\"Open In Colab\"/></a>"
      ]
    },
    {
      "cell_type": "code",
      "source": [
        "pip install mnist"
      ],
      "metadata": {
        "colab": {
          "base_uri": "https://localhost:8080/"
        },
        "id": "cmEwHD0PMgl9",
        "outputId": "2a9aa627-5892-4b66-8d33-c1de76e42398"
      },
      "execution_count": 4,
      "outputs": [
        {
          "output_type": "stream",
          "name": "stdout",
          "text": [
            "Requirement already satisfied: mnist in /usr/local/lib/python3.10/dist-packages (0.2.2)\n",
            "Requirement already satisfied: numpy in /usr/local/lib/python3.10/dist-packages (from mnist) (1.25.2)\n"
          ]
        }
      ]
    },
    {
      "cell_type": "code",
      "execution_count": 5,
      "metadata": {
        "colab": {
          "base_uri": "https://localhost:8080/"
        },
        "id": "1-zLrR6HIWBV",
        "outputId": "93a80afb-4caa-4290-a4c5-3a76c99b1da7"
      },
      "outputs": [
        {
          "output_type": "stream",
          "name": "stdout",
          "text": [
            "Downloading data from https://storage.googleapis.com/tensorflow/tf-keras-datasets/mnist.npz\n",
            "11490434/11490434 [==============================] - 1s 0us/step\n"
          ]
        }
      ],
      "source": [
        "import numpy as np\n",
        "import tensorflow.keras.datasets as datasets\n",
        "from tensorflow.keras.models import Sequential\n",
        "from tensorflow.keras.layers import Conv2D, MaxPooling2D, Dense, Flatten\n",
        "from tensorflow.keras.utils import to_categorical\n",
        "\n",
        "# Load the MNIST dataset.\n",
        "(train_images, train_labels), (test_images, test_labels) = datasets.mnist.load_data()"
      ]
    },
    {
      "cell_type": "code",
      "source": [
        "# Normalize the images.\n",
        "train_images = (train_images / 255) - 0.5\n",
        "test_images = (test_images / 255) - 0.5"
      ],
      "metadata": {
        "id": "bt6GKtbZQPq6"
      },
      "execution_count": 6,
      "outputs": []
    },
    {
      "cell_type": "code",
      "source": [
        "# Reshape the images.\n",
        "train_images = np.expand_dims(train_images, axis=3)\n",
        "test_images = np.expand_dims(test_images, axis=3)"
      ],
      "metadata": {
        "id": "pkvpo349QRBD"
      },
      "execution_count": 7,
      "outputs": []
    },
    {
      "cell_type": "code",
      "source": [
        "num_filters = 8\n",
        "filter_size = 3\n",
        "pool_size = 2\n",
        "# Build the model.\n",
        "# Build the model.\n",
        "model = Sequential([\n",
        " Conv2D(num_filters, filter_size, input_shape=(28, 28, 1)),\n",
        " MaxPooling2D(pool_size=pool_size),\n",
        " Conv2D(num_filters, filter_size),\n",
        " MaxPooling2D(pool_size=pool_size),\n",
        " Flatten(),\n",
        " Dense(10, activation='softmax'),\n",
        "])"
      ],
      "metadata": {
        "id": "0uJn7ep_QSLr"
      },
      "execution_count": 8,
      "outputs": []
    },
    {
      "cell_type": "code",
      "source": [
        "# Compile the model.\n",
        "model.compile('adam',loss='categorical_crossentropy',metrics=['accuracy'],)"
      ],
      "metadata": {
        "id": "fZrToDB7QT0p"
      },
      "execution_count": 9,
      "outputs": []
    },
    {
      "cell_type": "code",
      "source": [
        "# Train the model.\n",
        "model.fit(\n",
        " train_images,\n",
        " to_categorical(train_labels),\n",
        " epochs=3,\n",
        " validation_data=(test_images, to_categorical(test_labels)),\n",
        ")\n",
        "# Save the model to disk.\n",
        "model.save_weights('cnn.h5')\n",
        "# Load the model from disk later using:\n",
        "# model.load_weights('cnn.h5')\n",
        "# Predict on the first 5 test images.\n",
        "predictions = model.predict(test_images[:5])\n",
        "# Print our model's predictions.\n",
        "print(np.argmax(predictions, axis=1)) # [7, 2, 1, 0, 4]\n",
        "# Check our predictions against the ground truths.\n",
        "print(test_labels[:5]) # [7, 2, 1, 0, 4]"
      ],
      "metadata": {
        "colab": {
          "base_uri": "https://localhost:8080/"
        },
        "id": "fyCV3leiQVHG",
        "outputId": "06178253-90f3-4ea1-bcd3-9b10f0d6cbb2"
      },
      "execution_count": 10,
      "outputs": [
        {
          "output_type": "stream",
          "name": "stdout",
          "text": [
            "Epoch 1/3\n",
            "1875/1875 [==============================] - 28s 14ms/step - loss: 0.3302 - accuracy: 0.9007 - val_loss: 0.1501 - val_accuracy: 0.9559\n",
            "Epoch 2/3\n",
            "1875/1875 [==============================] - 26s 14ms/step - loss: 0.1295 - accuracy: 0.9614 - val_loss: 0.1020 - val_accuracy: 0.9702\n",
            "Epoch 3/3\n",
            "1875/1875 [==============================] - 25s 14ms/step - loss: 0.0969 - accuracy: 0.9704 - val_loss: 0.0813 - val_accuracy: 0.9742\n",
            "1/1 [==============================] - 0s 145ms/step\n",
            "[7 2 1 0 4]\n",
            "[7 2 1 0 4]\n"
          ]
        }
      ]
    },
    {
      "cell_type": "code",
      "source": [],
      "metadata": {
        "id": "BmlU5G0yQdhO"
      },
      "execution_count": null,
      "outputs": []
    }
  ]
}